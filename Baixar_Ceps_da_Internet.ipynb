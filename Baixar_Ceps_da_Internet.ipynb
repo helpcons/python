{
  "nbformat": 4,
  "nbformat_minor": 0,
  "metadata": {
    "colab": {
      "provenance": [],
      "authorship_tag": "ABX9TyMNR1ivqL22KQoQ/k86AX0S",
      "include_colab_link": true
    },
    "kernelspec": {
      "name": "python3",
      "display_name": "Python 3"
    },
    "language_info": {
      "name": "python"
    }
  },
  "cells": [
    {
      "cell_type": "markdown",
      "metadata": {
        "id": "view-in-github",
        "colab_type": "text"
      },
      "source": [
        "<a href=\"https://colab.research.google.com/github/helpcons/python/blob/main/Baixar_Ceps_da_Internet.ipynb\" target=\"_parent\"><img src=\"https://colab.research.google.com/assets/colab-badge.svg\" alt=\"Open In Colab\"/></a>"
      ]
    },
    {
      "cell_type": "code",
      "execution_count": null,
      "metadata": {
        "id": "BhZFWSdgSfFd"
      },
      "outputs": [],
      "source": [
        "import requests\n",
        "from bs4 import BeautifulSoup\n",
        "from openpyxl import Workbook\n",
        "\n",
        "url = 'https://buscameucep.com.br/rio-de-janeiro/santa-teresa/cep'\n",
        "response = requests.get(url)\n",
        "soup = BeautifulSoup(response.text, 'html.parser')\n",
        "\n",
        "# create a new Excel workbook\n",
        "wb = Workbook()\n",
        "ws = wb.active\n",
        "\n",
        "# write headers to the sheet\n",
        "ws.append([\"Link\"])\n",
        "\n",
        "for link in soup.find_all('strong'):\n",
        "    ws.append([link.text])\n",
        "\n",
        "wb.save(\"links.xlsx\")"
      ]
    }
  ]
}